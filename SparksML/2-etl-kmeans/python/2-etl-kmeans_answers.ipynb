{
 "cells": [
  {
   "cell_type": "code",
   "execution_count": null,
   "metadata": {
    "collapsed": false
   },
   "outputs": [],
   "source": [
    "def display(*args, **kargs): pass"
   ]
  },
  {
   "cell_type": "markdown",
   "metadata": {},
   "source": [
    "# ETL and K-Means\n",
    " \n",
    "This lab will demonstrate loading data from a file, transforming that data into a form usable with the ML and MLlib libraries, and building a k-means clustering model using both ML and MLlib.\n",
    " \n",
    "Upon completing this lab you should understand how to read from and write to files in Spark, convert between `RDDs` and `DataFrames`, and build a model using both the ML and MLlib APIs."
   ]
  },
  {
   "cell_type": "markdown",
   "metadata": {},
   "source": [
    "#### Loading the data\n",
    " \n",
    "First, we need to load data into Spark.  We'll use a built-in utility to load a [libSVM file](http://www.csie.ntu.edu.tw/~cjlin/libsvm/faq.html), which is stored in an S3 bucket on AWS.  We'll use `MLUtils.loadLibSVMFile` to load our file.  Here are the [Python](http://spark.apache.org/docs/latest/api/python/pyspark.mllib.html#pyspark.mllib.util.MLUtils.loadLibSVMFile) and [Scala](https://spark.apache.org/docs/latest/api/scala/index.html#org.apache.spark.mllib.util.MLUtils$) APIs."
   ]
  },
  {
   "cell_type": "code",
   "execution_count": null,
   "metadata": {
    "collapsed": false
   },
   "outputs": [],
   "source": [
    "from pyspark.mllib.util import MLUtils\n",
    "\n",
    "baseDir = '/mnt/ml-class/'\n",
    "irisPath = baseDir + 'iris.scale'\n",
    "irisRDD = MLUtils.loadLibSVMFile(sc, irisPath, minPartitions=20).cache()\n",
    "\n",
    "# We get back an RDD of LabeledPoints.  Note that the libSVM format uses SparseVectors.\n",
    "irisRDD.take(5)"
   ]
  },
  {
   "cell_type": "markdown",
   "metadata": {},
   "source": [
    "What if we wanted to see the first few lines of the libSVM file to see what the format looks like?"
   ]
  },
  {
   "cell_type": "code",
   "execution_count": null,
   "metadata": {
    "collapsed": false
   },
   "outputs": [],
   "source": [
    "sc.textFile(irisPath).take(5)"
   ]
  },
  {
   "cell_type": "markdown",
   "metadata": {},
   "source": [
    "How is this data stored across partitions?"
   ]
  },
  {
   "cell_type": "code",
   "execution_count": null,
   "metadata": {
    "collapsed": false
   },
   "outputs": [],
   "source": [
    "print 'number of partitions: {0}'.format(irisRDD.getNumPartitions())\n",
    "elementsPerPart = (irisRDD\n",
    "                   .mapPartitionsWithIndex(lambda i,x: [(i, len(list(x)))])\n",
    "                   .collect())\n",
    "print 'elements per partition: {0}\\n'.format(elementsPerPart)\n",
    "irisRDD.glom().take(1)"
   ]
  },
  {
   "cell_type": "markdown",
   "metadata": {},
   "source": [
    "Let's convert this `RDD` of `LabeledPoints` to a `DataFrame`"
   ]
  },
  {
   "cell_type": "code",
   "execution_count": null,
   "metadata": {
    "collapsed": false
   },
   "outputs": [],
   "source": [
    "irisDF = irisRDD.toDF()\n",
    "irisDF.take(5)"
   ]
  },
  {
   "cell_type": "code",
   "execution_count": null,
   "metadata": {
    "collapsed": false
   },
   "outputs": [],
   "source": [
    "irisDF.take(5)"
   ]
  },
  {
   "cell_type": "code",
   "execution_count": null,
   "metadata": {
    "collapsed": false
   },
   "outputs": [],
   "source": [
    "irisDF.show(n=20, truncate=False)"
   ]
  },
  {
   "cell_type": "code",
   "execution_count": null,
   "metadata": {
    "collapsed": false
   },
   "outputs": [],
   "source": [
    "display(irisDF)"
   ]
  },
  {
   "cell_type": "code",
   "execution_count": null,
   "metadata": {
    "collapsed": false
   },
   "outputs": [],
   "source": [
    "print irisDF.schema, '\\n'\n",
    "irisDF.printSchema()"
   ]
  },
  {
   "cell_type": "markdown",
   "metadata": {},
   "source": [
    "Why were we able to convert directly from a `LabeledPoint` to a `Row`?"
   ]
  },
  {
   "cell_type": "code",
   "execution_count": null,
   "metadata": {
    "collapsed": false
   },
   "outputs": [],
   "source": [
    "class Person(object):\n",
    "    def __init__(self, name, age):\n",
    "        self.name = name\n",
    "        self.age = age\n",
    "\n",
    "personDF = sqlContext.createDataFrame([Person('Bob', 28), Person('Julie', 35)])\n",
    "display(personDF)"
   ]
  },
  {
   "cell_type": "markdown",
   "metadata": {},
   "source": [
    "Python function calls for converting a RDD into a DataFrame\n",
    " \n",
    "[createDataFrame](https://github.com/apache/spark/blob/3a11e50e21ececbec9708eb487b08196f195cd87/python/pyspark/sql/context.py#L342)\n",
    " \n",
    "--> [_createFromRDD](https://github.com/apache/spark/blob/3a11e50e21ececbec9708eb487b08196f195cd87/python/pyspark/sql/context.py#L280)\n",
    " \n",
    "----> [_inferSchema](https://github.com/apache/spark/blob/3a11e50e21ececbec9708eb487b08196f195cd87/python/pyspark/sql/context.py#L221)\n",
    " \n",
    "------> [_infer_schema](https://github.com/apache/spark/blob/3a11e50e21ececbec9708eb487b08196f195cd87/python/pyspark/sql/types.py#L813)\n",
    " \n",
    "--> [back to _createFromRDD](https://github.com/apache/spark/blob/3a11e50e21ececbec9708eb487b08196f195cd87/python/pyspark/sql/context.py#L304)\n",
    " \n",
    "----> [toInternal](https://github.com/apache/spark/blob/3a11e50e21ececbec9708eb487b08196f195cd87/python/pyspark/sql/types.py#L533)\n",
    " \n",
    "[back to createDataFrame](https://github.com/apache/spark/blob/3a11e50e21ececbec9708eb487b08196f195cd87/python/pyspark/sql/context.py#L404)"
   ]
  },
  {
   "cell_type": "code",
   "execution_count": null,
   "metadata": {
    "collapsed": false
   },
   "outputs": [],
   "source": [
    "# Our object does have a __dict__ attribute\n",
    "print Person('Bob', 28).__dict__"
   ]
  },
  {
   "cell_type": "code",
   "execution_count": null,
   "metadata": {
    "collapsed": false
   },
   "outputs": [],
   "source": [
    "personDF = sqlContext.createDataFrame([Person('Bob', 28), Person('Julie', 35)])\n",
    "display(personDF)"
   ]
  },
  {
   "cell_type": "code",
   "execution_count": null,
   "metadata": {
    "collapsed": false
   },
   "outputs": [],
   "source": [
    "# Show the schema that was inferred\n",
    "print personDF.schema\n",
    "personDF.printSchema()"
   ]
  },
  {
   "cell_type": "code",
   "execution_count": null,
   "metadata": {
    "collapsed": false
   },
   "outputs": [],
   "source": [
    "from collections import namedtuple\n",
    "PersonTuple = namedtuple('Person', ['name', 'age'])\n",
    "personTupleDF = sqlContext.createDataFrame([PersonTuple('Bob', 28), PersonTuple('Julie', 35)])\n",
    "display(personTupleDF)"
   ]
  },
  {
   "cell_type": "code",
   "execution_count": null,
   "metadata": {
    "collapsed": false
   },
   "outputs": [],
   "source": [
    "personTupleDF.printSchema()"
   ]
  },
  {
   "cell_type": "markdown",
   "metadata": {},
   "source": [
    "#### Transform the data\n",
    " \n",
    "If you look at the data you'll notice that there are three values for label: 1, 2, and 3.  Spark's machine learning algorithms expect a 0 indexed target variable, so we'll want to adjust those labels.  This transformation is a simple expression where we'll subtract one from our `label` column.\n",
    " \n",
    "For help, reference the SQL Programming Guide portion on [dataframe-operations](http://spark.apache.org/docs/latest/sql-programming-guide.html#dataframe-operations) or the Spark SQL [Python](http://spark.apache.org/docs/latest/api/python/pyspark.sql.html) and [Scala](https://spark.apache.org/docs/latest/api/scala/index.html#org.apache.spark.sql.package) APIs.  `select`, `col`, and `alias` can be used to accomplish this.\n",
    " \n",
    "The resulting `DataFrame` should have two columns: one named `features` and another named `label`."
   ]
  },
  {
   "cell_type": "code",
   "execution_count": null,
   "metadata": {
    "collapsed": false
   },
   "outputs": [],
   "source": [
    "# ANSWER\n",
    "from pyspark.sql.functions import col\n",
    "\n",
    "irisDFZeroIndex = irisDF.select('features', (col('label') - 1).alias('label'))\n",
    "display(irisDFZeroIndex)"
   ]
  },
  {
   "cell_type": "code",
   "execution_count": null,
   "metadata": {
    "collapsed": false
   },
   "outputs": [],
   "source": [
    "# TEST\n",
    "from test_helper import Test\n",
    "Test.assertEquals(irisDFZeroIndex.select('label').map(lambda r: r[0]).take(3), [0, 0, 0],\n",
    "                  'incorrect value for irisDFZeroIndex')"
   ]
  },
  {
   "cell_type": "markdown",
   "metadata": {},
   "source": [
    "You'll also notice that we have four values for features and that those values are stored as a `SparseVector`.  We'll reduce those down to two values (for visualization purposes) and convert them to a `DenseVector`.  To do that we'll need to create a `udf` and apply it to our dataset.  Here's a `udf` reference for [Python](http://spark.apache.org/docs/latest/api/python/pyspark.sql.html#pyspark.sql.functions.udf) and for [Scala](https://spark.apache.org/docs/latest/api/scala/index.html#org.apache.spark.sql.UserDefinedFunction).\n",
    " \n",
    "Note that you can call the `toArray` method on a `SparseVector` to obtain an array, and you can convert an array into a `DenseVector` using the `Vectors.dense` method."
   ]
  },
  {
   "cell_type": "code",
   "execution_count": null,
   "metadata": {
    "collapsed": false
   },
   "outputs": [],
   "source": [
    "# ANSWER\n",
    "from pyspark.sql.functions import udf\n",
    "# Note that VectorUDT and MatrixUDT are found in linalg while other types are in sql.types\n",
    "# VectorUDT should be the return type of the udf\n",
    "from pyspark.mllib.linalg import Vectors, VectorUDT\n",
    "\n",
    "# Take the first two values from a SparseVector and convert them to a DenseVector\n",
    "firstTwoFeatures = udf(lambda sv: Vectors.dense(sv.toArray()[:2]), VectorUDT())\n",
    "\n",
    "irisTwoFeatures = irisDFZeroIndex.select(firstTwoFeatures('features').alias('features'), 'label').cache()\n",
    "display(irisTwoFeatures)"
   ]
  },
  {
   "cell_type": "code",
   "execution_count": null,
   "metadata": {
    "collapsed": false
   },
   "outputs": [],
   "source": [
    "# TEST\n",
    "Test.assertEquals(str(irisTwoFeatures.first()), 'Row(features=DenseVector([-0.5556, 0.25]), label=0.0)',\n",
    "                  'incorrect definition of firstTwoFeatures')"
   ]
  },
  {
   "cell_type": "markdown",
   "metadata": {},
   "source": [
    "## Part 2"
   ]
  },
  {
   "cell_type": "code",
   "execution_count": null,
   "metadata": {
    "collapsed": false
   },
   "outputs": [],
   "source": [
    "repr(irisTwoFeatures.first()[0])"
   ]
  },
  {
   "cell_type": "markdown",
   "metadata": {},
   "source": [
    "Let's view our `irisTwoFeatures` `DataFrame`."
   ]
  },
  {
   "cell_type": "code",
   "execution_count": null,
   "metadata": {
    "collapsed": false
   },
   "outputs": [],
   "source": [
    "irisTwoFeatures.take(5)"
   ]
  },
  {
   "cell_type": "code",
   "execution_count": null,
   "metadata": {
    "collapsed": false
   },
   "outputs": [],
   "source": [
    "display(irisTwoFeatures)"
   ]
  },
  {
   "cell_type": "markdown",
   "metadata": {},
   "source": [
    "#### Saving our DataFrame"
   ]
  },
  {
   "cell_type": "markdown",
   "metadata": {},
   "source": [
    "We'll be using parquet files to save our data.  More information about the parquet file format can be found on [parquet.apache.org](https://parquet.apache.org/documentation/latest/)."
   ]
  },
  {
   "cell_type": "code",
   "execution_count": null,
   "metadata": {
    "collapsed": false
   },
   "outputs": [],
   "source": [
    "help(irisTwoFeatures.write.parquet)"
   ]
  },
  {
   "cell_type": "code",
   "execution_count": null,
   "metadata": {
    "collapsed": false
   },
   "outputs": [],
   "source": [
    "import uuid\n",
    "if 'parqUUID' not in locals():\n",
    "    parqUUID = uuid.uuid1()\n",
    "irisTwoFeatures.write.mode('overwrite').parquet('/tmp/{0}/irisTwoFeatures.parquet'.format(parqUUID))"
   ]
  },
  {
   "cell_type": "markdown",
   "metadata": {},
   "source": [
    "Note that we'll get a part file for each partition and that these files are compressed."
   ]
  },
  {
   "cell_type": "code",
   "execution_count": null,
   "metadata": {
    "collapsed": false
   },
   "outputs": [],
   "source": [
    "#display(dbutils.fs.ls(baseDir + 'irisTwoFeatures.parquet'))\n",
    "display(dbutils.fs.ls('/tmp/{0}/irisTwoFeatures.parquet'.format(parqUUID)))"
   ]
  },
  {
   "cell_type": "code",
   "execution_count": null,
   "metadata": {
    "collapsed": false
   },
   "outputs": [],
   "source": [
    "irisDFZeroIndex.write.mode('overwrite').parquet('/tmp/{0}/irisFourFeatures.parquet'.format(parqUUID))"
   ]
  },
  {
   "cell_type": "markdown",
   "metadata": {},
   "source": [
    "#### K-Means"
   ]
  },
  {
   "cell_type": "markdown",
   "metadata": {},
   "source": [
    "Now we'll build a k-means model using our two features and inspect the class hierarchy.\n",
    " \n",
    "We'll build the k-means model using `KMeans`, an `ml` `Estimator`.  Details can be found in the [Python](http://spark.apache.org/docs/latest/api/python/pyspark.ml.html#module-pyspark.ml.clustering) and [Scala](https://spark.apache.org/docs/latest/api/scala/index.html#org.apache.spark.ml.clustering.package) APIs.  Also, examples that use [PCA](http://spark.apache.org/docs/latest/ml-features.html#pca) and  [logistic regression](http://spark.apache.org/docs/latest/ml-guide.html#example-estimator-transformer-and-param) can be found in the ML Programming Guide.\n",
    " \n",
    "Make sure to work with the `irisTwoFeatures` `DataFrame`."
   ]
  },
  {
   "cell_type": "code",
   "execution_count": null,
   "metadata": {
    "collapsed": false
   },
   "outputs": [],
   "source": [
    "# ANSWER\n",
    "from pyspark.ml.clustering import KMeans\n",
    "\n",
    "# Create a KMeans Estimator and set k=3, seed=5, maxIter=20, initSteps=1\n",
    "kmeans = (KMeans()\n",
    "          .setK(3)\n",
    "          .setSeed(5)\n",
    "          .setMaxIter(20)\n",
    "          .setInitSteps(1))\n",
    "\n",
    "#  Call fit on the estimator and pass in our DataFrame\n",
    "model = kmeans.fit(irisTwoFeatures)\n",
    "\n",
    "# Obtain the clusterCenters from the KMeansModel\n",
    "centers = model.clusterCenters()\n",
    "\n",
    "# Use the model to transform the DataFrame by adding cluster predictions\n",
    "transformed = model.transform(irisTwoFeatures)\n",
    "\n",
    "print centers"
   ]
  },
  {
   "cell_type": "code",
   "execution_count": null,
   "metadata": {
    "collapsed": false
   },
   "outputs": [],
   "source": [
    "# TEST\n",
    "import numpy as np\n",
    "Test.assertTrue(np.allclose([ 0.35115296, -0.10691828], centers[0]),\n",
    "                'incorrect centers.  check your params.')\n",
    "Test.assertEquals(transformed.select('prediction').map(lambda r: r[0]).take(4), [1,1,1,1],\n",
    "                  'incorrect predictions')"
   ]
  },
  {
   "cell_type": "markdown",
   "metadata": {},
   "source": [
    "## PART 3"
   ]
  },
  {
   "cell_type": "markdown",
   "metadata": {},
   "source": [
    "From the class hierarchy it is clear that `KMeans` is an `Estimator` while `KMeansModel` is a `Transformer`."
   ]
  },
  {
   "cell_type": "code",
   "execution_count": null,
   "metadata": {
    "collapsed": false
   },
   "outputs": [],
   "source": [
    "print '*** KMeans instance inheritance partial tree ***'\n",
    "print '\\n{0}\\n'.format(type(kmeans))\n",
    "print '\\n'.join(map(str, type(kmeans).__bases__))\n",
    "print '\\n{0}'.format(type(kmeans).__bases__[0].__bases__)\n",
    "\n",
    "print '\\n\\n*** KMeansModel instance inheritance partial tree ***'\n",
    "print '\\n{0}\\n'.format(type(model))\n",
    "print '\\n'.join(map(str, type(model).__bases__)) + '\\n'\n",
    "print '\\n'.join(map(str, type(model).__bases__[0].__bases__))\n",
    "print '\\n{0}'.format(type(model).__bases__[0].__bases__[0].__bases__)"
   ]
  },
  {
   "cell_type": "markdown",
   "metadata": {},
   "source": [
    "Let's print the three centroids of our model"
   ]
  },
  {
   "cell_type": "code",
   "execution_count": null,
   "metadata": {
    "collapsed": false
   },
   "outputs": [],
   "source": [
    "print centers"
   ]
  },
  {
   "cell_type": "markdown",
   "metadata": {},
   "source": [
    "Note that our predicted cluster is appended, as a column, to our input `DataFrame`.  Here it would be desirable to see consistency between label and prediction.  These don't need to be the same number but if label 0 is usually predicted to be cluster 1 that would indicate that our unsupervised learning is naturally grouping the data into species."
   ]
  },
  {
   "cell_type": "code",
   "execution_count": null,
   "metadata": {
    "collapsed": false
   },
   "outputs": [],
   "source": [
    "display(transformed)"
   ]
  },
  {
   "cell_type": "markdown",
   "metadata": {},
   "source": [
    "#### K-Means Visualized"
   ]
  },
  {
   "cell_type": "code",
   "execution_count": null,
   "metadata": {
    "collapsed": false
   },
   "outputs": [],
   "source": [
    "modelCenters = []\n",
    "iterations = [0, 2, 4, 7, 10, 20]\n",
    "for i in iterations:\n",
    "    kmeans = KMeans(k=3, seed=5, maxIter=i, initSteps=1)\n",
    "    model = kmeans.fit(irisTwoFeatures)\n",
    "    modelCenters.append(model.clusterCenters())"
   ]
  },
  {
   "cell_type": "code",
   "execution_count": null,
   "metadata": {
    "collapsed": false
   },
   "outputs": [],
   "source": [
    "print 'modelCenters:'\n",
    "for centroids in modelCenters:\n",
    "  print centroids"
   ]
  },
  {
   "cell_type": "code",
   "execution_count": null,
   "metadata": {
    "collapsed": false
   },
   "outputs": [],
   "source": [
    "import matplotlib.pyplot as plt\n",
    "import matplotlib.cm as cm\n",
    "import numpy as np\n",
    "\n",
    "def prepareSubplot(xticks, yticks, figsize=(10.5, 6), hideLabels=False, gridColor='#999999',\n",
    "                gridWidth=1.0, subplots=(1, 1)):\n",
    "    \"\"\"Template for generating the plot layout.\"\"\"\n",
    "    plt.close()\n",
    "    fig, axList = plt.subplots(subplots[0], subplots[1], figsize=figsize, facecolor='white',\n",
    "                               edgecolor='white')\n",
    "    if not isinstance(axList, np.ndarray):\n",
    "        axList = np.array([axList])\n",
    "\n",
    "    for ax in axList.flatten():\n",
    "        ax.axes.tick_params(labelcolor='#999999', labelsize='10')\n",
    "        for axis, ticks in [(ax.get_xaxis(), xticks), (ax.get_yaxis(), yticks)]:\n",
    "            axis.set_ticks_position('none')\n",
    "            axis.set_ticks(ticks)\n",
    "            axis.label.set_color('#999999')\n",
    "            if hideLabels: axis.set_ticklabels([])\n",
    "        ax.grid(color=gridColor, linewidth=gridWidth, linestyle='-')\n",
    "        map(lambda position: ax.spines[position].set_visible(False), ['bottom', 'top', 'left', 'right'])\n",
    "\n",
    "    if axList.size == 1:\n",
    "        axList = axList[0]  # Just return a single axes object for a regular plot\n",
    "    return fig, axList"
   ]
  },
  {
   "cell_type": "markdown",
   "metadata": {},
   "source": [
    "Display the clustroid centers with the original labeled points and circles representing distance from the centroids."
   ]
  },
  {
   "cell_type": "code",
   "execution_count": null,
   "metadata": {
    "collapsed": false
   },
   "outputs": [],
   "source": [
    "data = irisTwoFeatures.collect()\n",
    "features, labels = zip(*data)\n",
    "x, y = zip(*features)\n",
    "\n",
    "centroidX, centroidY = zip(*centers)\n",
    "colorMap = 'Set1'  # was 'Set2', 'Set1', 'Dark2', 'winter'\n",
    "\n",
    "fig, ax = prepareSubplot(np.arange(-1, 1.1, .4), np.arange(-1, 1.1, .4), figsize=(8,6))\n",
    "plt.scatter(x, y, s=14**2, c=labels, edgecolors='#8cbfd0', alpha=0.80, cmap=colorMap)\n",
    "plt.scatter(centroidX, centroidY, s=22**2, marker='*', c='yellow')\n",
    "cmap = cm.get_cmap(colorMap)\n",
    "\n",
    "colorIndex = [.99, 0., .5]\n",
    "for i, (x,y) in enumerate(centers):\n",
    "    print cmap(colorIndex[i])\n",
    "    for size in [.10, .20, .30, .40, .50]:\n",
    "        circle1=plt.Circle((x,y),size,color=cmap(colorIndex[i]), alpha=.10, linewidth=2)\n",
    "        ax.add_artist(circle1)\n",
    "\n",
    "ax.set_xlabel('Sepal Length'), ax.set_ylabel('Sepal Width')\n",
    "display(fig)"
   ]
  },
  {
   "cell_type": "markdown",
   "metadata": {},
   "source": [
    "Visualize how the clustroid centers move as the k-means algorithm iterates."
   ]
  },
  {
   "cell_type": "code",
   "execution_count": null,
   "metadata": {
    "collapsed": false
   },
   "outputs": [],
   "source": [
    "x, y = zip(*features)\n",
    "\n",
    "oldCentroidX, oldCentroidY = None, None\n",
    "\n",
    "fig, axList = prepareSubplot(np.arange(-1, 1.1, .4), np.arange(-1, 1.1, .4), figsize=(11, 15),\n",
    "                             subplots=(3, 2))\n",
    "axList = axList.flatten()\n",
    "\n",
    "for i,ax in enumerate(axList[:]):\n",
    "    ax.set_title('K-means for {0} iterations'.format(iterations[i]), color='#999999')\n",
    "    centroids = modelCenters[i]\n",
    "    centroidX, centroidY = zip(*centroids)\n",
    "\n",
    "    ax.scatter(x, y, s=10**2, c=labels, edgecolors='#8cbfd0', alpha=0.80, cmap=colorMap)\n",
    "    ax.scatter(centroidX, centroidY, s=16**2, marker='*', c='yellow')\n",
    "    if oldCentroidX and oldCentroidY:\n",
    "      ax.scatter(oldCentroidX, oldCentroidY, s=16**2, marker='*', c='grey')\n",
    "    cmap = cm.get_cmap(colorMap)\n",
    "\n",
    "    colorIndex = [.99, 0., .5]\n",
    "    for i, (x1,y1) in enumerate(centroids):\n",
    "      print cmap(colorIndex[i])\n",
    "      circle1=plt.Circle((x1,y1),.35,color=cmap(colorIndex[i]), alpha=.40)\n",
    "      ax.add_artist(circle1)\n",
    "\n",
    "    ax.set_xlabel('Sepal Length'), ax.set_ylabel('Sepal Width')\n",
    "    oldCentroidX, oldCentroidY = centroidX, centroidY\n",
    "#axList[-1].cla()\n",
    "#axList[-1].get_yaxis().set_ticklabels([])\n",
    "#axList[-1].get_xaxis().set_ticklabels([])\n",
    "\n",
    "plt.tight_layout()\n",
    "\n",
    "display(fig)"
   ]
  },
  {
   "cell_type": "markdown",
   "metadata": {},
   "source": [
    "Summary plot of the centroid movement."
   ]
  },
  {
   "cell_type": "code",
   "execution_count": null,
   "metadata": {
    "collapsed": false
   },
   "outputs": [],
   "source": [
    "centroidX, centroidY = zip(*centers)\n",
    "\n",
    "# generate layout and plot data\n",
    "def plotKMeansTrack(x=x, y=y, labels=labels):\n",
    "    fig, ax = prepareSubplot(np.arange(-1, 1.1, .4), np.arange(-1, 1.1, .4), figsize=(8, 6))\n",
    "    ax.set_ylim(-1, 1), ax.set_xlim(-1, 1)\n",
    "    #plt.scatter(x, y, s=14**2, c=labels, edgecolors='#8cbfd0', alpha=0.80, cmap='winter')\n",
    "    cmap = cm.get_cmap(colorMap)\n",
    "\n",
    "    colorIndex = [.99, 0.0, .5]\n",
    "\n",
    "    alphas = [.05, .10, .15, .20, .30, .40]\n",
    "    sizes = [8, 12, 16, 20, 24, 28]\n",
    "\n",
    "    for iteration, centroids in enumerate(modelCenters):\n",
    "        centroidX, centroidY = zip(*centroids)\n",
    "        color = 'lightgrey' if iteration < 5 else 'yellow'\n",
    "        plt.scatter(centroidX, centroidY, s=sizes[iteration]**2, marker='*', c=color)\n",
    "\n",
    "        for i, (x,y) in enumerate(centroids):\n",
    "            print cmap(colorIndex[i])\n",
    "            circle1=plt.Circle((x,y),.35,color=cmap(colorIndex[i%3]), alpha=alphas[iteration], linewidth=2.0)\n",
    "            ax.add_artist(circle1)\n",
    "\n",
    "\n",
    "    ax.set_xlabel('Sepal Length'), ax.set_ylabel('Sepal Width')\n",
    "    display(fig)\n",
    "\n",
    "plotKMeansTrack(centroidX, centroidY)"
   ]
  },
  {
   "cell_type": "markdown",
   "metadata": {},
   "source": [
    "#### Using MLlib instead of ML"
   ]
  },
  {
   "cell_type": "markdown",
   "metadata": {},
   "source": [
    "First, convert our `DataFrame` into an `RDD`."
   ]
  },
  {
   "cell_type": "code",
   "execution_count": null,
   "metadata": {
    "collapsed": false
   },
   "outputs": [],
   "source": [
    "# Note that .rdd is not necessary, but is here to illustrate that we are working with an RDD\n",
    "irisTwoFeaturesRDD = (irisTwoFeatures\n",
    "                      .rdd\n",
    "                      .map(lambda r: (r[1], r[0])))\n",
    "irisTwoFeaturesRDD.take(2)"
   ]
  },
  {
   "cell_type": "markdown",
   "metadata": {},
   "source": [
    "Then import MLlib's `KMeans` as `MLlibKMeans` to differentiate it from `ml.KMeans`"
   ]
  },
  {
   "cell_type": "code",
   "execution_count": null,
   "metadata": {
    "collapsed": false
   },
   "outputs": [],
   "source": [
    "from pyspark.mllib.clustering import KMeans as MLlibKMeans\n",
    "\n",
    "help(MLlibKMeans)"
   ]
  },
  {
   "cell_type": "markdown",
   "metadata": {},
   "source": [
    "Finally, let's build our k-means model.  Here are the relevant [Python](http://spark.apache.org/docs/latest/api/python/pyspark.mllib.html#pyspark.mllib.clustering.KMeans) and [Scala](https://spark.apache.org/docs/latest/api/scala/index.html#org.apache.spark.mllib.clustering.KMeans) APIs.\n",
    " \n",
    "Make sure to set `k` to 3, `maxIterations` to 20, `seed` to 5, and `initializationSteps` to 1.  Also, note that we returned an `RDD` with (label, feature) tuples.  You'll just need the features, which you can obtain by calling `.values()` on `irisTwoFeaturesRDD`."
   ]
  },
  {
   "cell_type": "code",
   "execution_count": null,
   "metadata": {
    "collapsed": false
   },
   "outputs": [],
   "source": [
    "# ANSWER\n",
    "mllibKMeans = MLlibKMeans.train(irisTwoFeaturesRDD.values(), 3, maxIterations=20, seed=5,\n",
    "                                initializationSteps=1)\n",
    "\n",
    "print 'mllib: {0}'.format(mllibKMeans.clusterCenters)\n",
    "print 'ml:    {0}'.format(centers)"
   ]
  },
  {
   "cell_type": "code",
   "execution_count": null,
   "metadata": {
    "collapsed": false
   },
   "outputs": [],
   "source": [
    "# TEST\n",
    "import numpy as np\n",
    "Test.assertTrue(np.allclose(mllibKMeans.clusterCenters, centers), \"Your mllib and ml models don't match\")"
   ]
  },
  {
   "cell_type": "markdown",
   "metadata": {},
   "source": [
    "Now that we have an `mllibKMeans` model how do we generate predictions and compare those to our labels?"
   ]
  },
  {
   "cell_type": "code",
   "execution_count": null,
   "metadata": {
    "collapsed": false
   },
   "outputs": [],
   "source": [
    "predictionsRDD = mllibKMeans.predict(irisTwoFeaturesRDD.values())\n",
    "print predictionsRDD.take(5)"
   ]
  },
  {
   "cell_type": "markdown",
   "metadata": {},
   "source": [
    "We'll use `zip` to combine the feature and prediction RDDs together.  Note that zip assumes that the RDDs have the same number of partitions and that each partition has the same number of elements.  This is true here as our predictions were the result of a `map` operation on the feature RDD."
   ]
  },
  {
   "cell_type": "code",
   "execution_count": null,
   "metadata": {
    "collapsed": false
   },
   "outputs": [],
   "source": [
    "combinedRDD = irisTwoFeaturesRDD.zip(predictionsRDD)\n",
    "combinedRDD.take(5)"
   ]
  },
  {
   "cell_type": "markdown",
   "metadata": {},
   "source": [
    "Let's compare this to the result from `ml`."
   ]
  },
  {
   "cell_type": "code",
   "execution_count": null,
   "metadata": {
    "collapsed": false
   },
   "outputs": [],
   "source": [
    "display(transformed)"
   ]
  },
  {
   "cell_type": "markdown",
   "metadata": {},
   "source": [
    "#### How do the `ml` and `mllib` implementations differ?"
   ]
  },
  {
   "cell_type": "code",
   "execution_count": null,
   "metadata": {
    "collapsed": false
   },
   "outputs": [],
   "source": [
    "import inspect\n",
    "print inspect.getsource(kmeans.fit)"
   ]
  },
  {
   "cell_type": "code",
   "execution_count": null,
   "metadata": {
    "collapsed": false
   },
   "outputs": [],
   "source": [
    "print inspect.getsource(kmeans._fit)"
   ]
  },
  {
   "cell_type": "code",
   "execution_count": null,
   "metadata": {
    "collapsed": false
   },
   "outputs": [],
   "source": [
    "print inspect.getsource(kmeans._fit_java)"
   ]
  },
  {
   "cell_type": "markdown",
   "metadata": {},
   "source": [
    "The `ml` version of k-means is just a wrapper to MLlib's implementation.  Let's take a look here:\n",
    "[org.apache.spark.ml.clustering.KMeans source](https://github.com/apache/spark/blob/e1e77b22b3b577909a12c3aa898eb53be02267fd/mllib/src/main/scala/org/apache/spark/ml/clustering/KMeans.scala#L192).\n",
    " \n",
    "How is $ being used in this function? `Param` [source code](https://github.com/apache/spark/blob/2b574f52d7bf51b1fe2a73086a3735b633e9083f/mllib/src/main/scala/org/apache/spark/ml/param/params.scala#L643) has the answer.\n",
    " \n",
    "Which is different than $'s usage for SQL columns where it is a [string interpolator that returns a ColumnName](https://github.com/apache/spark/blob/3d683a139b333456a6bd8801ac5f113d1ac3fd18/sql/core/src/main/scala/org/apache/spark/sql/SQLContext.scala#L386)"
   ]
  }
 ],
 "metadata": {},
 "nbformat": 4,
 "nbformat_minor": 0
}
