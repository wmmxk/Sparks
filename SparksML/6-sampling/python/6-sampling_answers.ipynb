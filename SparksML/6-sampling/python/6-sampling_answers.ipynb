{
 "cells": [
  {
   "cell_type": "code",
   "execution_count": null,
   "metadata": {
    "collapsed": false
   },
   "outputs": [],
   "source": [
    "def display(*args, **kargs): pass"
   ]
  },
  {
   "cell_type": "markdown",
   "metadata": {},
   "source": [
    "# Sampling\n",
    " \n",
    "This lab demonstrates how to perform sampling including stratified sampling.  There are examples using both `DataFrame` and `RDD` operations"
   ]
  },
  {
   "cell_type": "code",
   "execution_count": null,
   "metadata": {
    "collapsed": false
   },
   "outputs": [],
   "source": [
    "baseDir = '/mnt/ml-class/'\n",
    "irisTwoFeatures = sqlContext.read.parquet(baseDir + 'irisTwoFeatures.parquet')"
   ]
  },
  {
   "cell_type": "code",
   "execution_count": null,
   "metadata": {
    "collapsed": false
   },
   "outputs": [],
   "source": [
    "display(irisTwoFeatures)"
   ]
  },
  {
   "cell_type": "markdown",
   "metadata": {},
   "source": [
    "When using a `DataFrame` we can call `.sampleBy` to return a stratified sample without using replacement.  `sampleBy` takes in a column and fractions for what percentage of each value to sample.  An explanation of `sampleBy` can be found under [DataFrame](https://spark.apache.org/docs/latest/api/python/pyspark.sql.html#pyspark.sql.DataFrame.sampleBy) for the Python API and under [DataFrameStatFunctions](http://spark.apache.org/docs/latest/api/scala/#org.apache.spark.sql.DataFrameStatFunctions) for the Scala API."
   ]
  },
  {
   "cell_type": "code",
   "execution_count": null,
   "metadata": {
    "collapsed": false
   },
   "outputs": [],
   "source": [
    "help(irisTwoFeatures.sampleBy)"
   ]
  },
  {
   "cell_type": "code",
   "execution_count": null,
   "metadata": {
    "collapsed": false
   },
   "outputs": [],
   "source": [
    "stratifiedSample = irisTwoFeatures.sampleBy('label', {0: .10, 1: .20, 2: .30})\n",
    "display(stratifiedSample)"
   ]
  },
  {
   "cell_type": "markdown",
   "metadata": {},
   "source": [
    "How many?  And which labels did we sample?"
   ]
  },
  {
   "cell_type": "code",
   "execution_count": null,
   "metadata": {
    "collapsed": false
   },
   "outputs": [],
   "source": [
    "print 'total count: {0}'.format(stratifiedSample.count())"
   ]
  },
  {
   "cell_type": "code",
   "execution_count": null,
   "metadata": {
    "collapsed": false
   },
   "outputs": [],
   "source": [
    "labelCounts = (stratifiedSample\n",
    "               .groupBy('label')\n",
    "               .count()\n",
    "               .orderBy('label'))\n",
    "display(labelCounts)"
   ]
  },
  {
   "cell_type": "markdown",
   "metadata": {},
   "source": [
    "Now let's sample with replacement from the `DataFrame`."
   ]
  },
  {
   "cell_type": "code",
   "execution_count": null,
   "metadata": {
    "collapsed": false
   },
   "outputs": [],
   "source": [
    "help(irisTwoFeatures.sample)"
   ]
  },
  {
   "cell_type": "code",
   "execution_count": null,
   "metadata": {
    "collapsed": false
   },
   "outputs": [],
   "source": [
    "sampleWithReplace = irisTwoFeatures.sample(True, .20)\n",
    "labelCountsReplace = (sampleWithReplace\n",
    "                      .groupBy('label')\n",
    "                      .count()\n",
    "                      .orderBy('label'))\n",
    "display(labelCountsReplace)"
   ]
  },
  {
   "cell_type": "markdown",
   "metadata": {},
   "source": [
    "#### Convert to an RDD and sample from an RDD"
   ]
  },
  {
   "cell_type": "markdown",
   "metadata": {},
   "source": [
    "First, we'll convert our `DataFrame` to an `RDD`."
   ]
  },
  {
   "cell_type": "code",
   "execution_count": null,
   "metadata": {
    "collapsed": false
   },
   "outputs": [],
   "source": [
    "irisTwoFeaturesRDD = (irisTwoFeatures\n",
    "                      .rdd\n",
    "                      .map(lambda r: (r[1], r[0])))\n",
    "\n",
    "print '\\n'.join(map(repr, irisTwoFeaturesRDD.take(2)))"
   ]
  },
  {
   "cell_type": "markdown",
   "metadata": {},
   "source": [
    "Next, we'll perform stratified sampling."
   ]
  },
  {
   "cell_type": "code",
   "execution_count": null,
   "metadata": {
    "collapsed": false
   },
   "outputs": [],
   "source": [
    "help(irisTwoFeaturesRDD.sampleByKey)"
   ]
  },
  {
   "cell_type": "code",
   "execution_count": null,
   "metadata": {
    "collapsed": false
   },
   "outputs": [],
   "source": [
    "irisSampleRDD = irisTwoFeaturesRDD.sampleByKey(True, {0: 0.5, 1: 0.5, 2: 0.1}, seed=1)\n",
    "\n",
    "print '\\n'.join(map(repr, irisSampleRDD.take(5)))"
   ]
  },
  {
   "cell_type": "markdown",
   "metadata": {},
   "source": [
    "What do our counts look like?"
   ]
  },
  {
   "cell_type": "code",
   "execution_count": null,
   "metadata": {
    "collapsed": false
   },
   "outputs": [],
   "source": [
    "print irisTwoFeaturesRDD.countByKey()\n",
    "print irisSampleRDD.countByKey()"
   ]
  },
  {
   "cell_type": "markdown",
   "metadata": {},
   "source": [
    "We could also call `sample` to perform a random sample instead of a stratified sample."
   ]
  }
 ],
 "metadata": {},
 "nbformat": 4,
 "nbformat_minor": 0
}
